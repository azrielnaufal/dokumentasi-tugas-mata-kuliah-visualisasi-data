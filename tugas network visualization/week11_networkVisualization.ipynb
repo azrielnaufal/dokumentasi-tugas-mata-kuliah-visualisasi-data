{
 "cells": [
  {
   "cell_type": "code",
   "execution_count": 9,
   "metadata": {},
   "outputs": [],
   "source": [
    "import networkx as nx\n",
    "import matplotlib.pyplot as plt\n",
    "import pandas as pd\n",
    "import numpy as np"
   ]
  },
  {
   "cell_type": "code",
   "execution_count": 61,
   "metadata": {},
   "outputs": [
    {
     "data": {
      "text/html": [
       "<div>\n",
       "<style scoped>\n",
       "    .dataframe tbody tr th:only-of-type {\n",
       "        vertical-align: middle;\n",
       "    }\n",
       "\n",
       "    .dataframe tbody tr th {\n",
       "        vertical-align: top;\n",
       "    }\n",
       "\n",
       "    .dataframe thead th {\n",
       "        text-align: right;\n",
       "    }\n",
       "</style>\n",
       "<table border=\"1\" class=\"dataframe\">\n",
       "  <thead>\n",
       "    <tr style=\"text-align: right;\">\n",
       "      <th></th>\n",
       "      <th>0</th>\n",
       "      <th>1</th>\n",
       "    </tr>\n",
       "  </thead>\n",
       "  <tbody>\n",
       "    <tr>\n",
       "      <th>0</th>\n",
       "      <td>Bandung</td>\n",
       "      <td>Tasikmalaya</td>\n",
       "    </tr>\n",
       "    <tr>\n",
       "      <th>1</th>\n",
       "      <td>Bandung</td>\n",
       "      <td>Sumedang</td>\n",
       "    </tr>\n",
       "    <tr>\n",
       "      <th>2</th>\n",
       "      <td>Bandung</td>\n",
       "      <td>Sumber</td>\n",
       "    </tr>\n",
       "    <tr>\n",
       "      <th>3</th>\n",
       "      <td>Bekasi</td>\n",
       "      <td>Sukabumi</td>\n",
       "    </tr>\n",
       "    <tr>\n",
       "      <th>4</th>\n",
       "      <td>Bogor</td>\n",
       "      <td>Subang</td>\n",
       "    </tr>\n",
       "    <tr>\n",
       "      <th>5</th>\n",
       "      <td>Cianjur</td>\n",
       "      <td>Soreang</td>\n",
       "    </tr>\n",
       "    <tr>\n",
       "      <th>6</th>\n",
       "      <td>Cianjur</td>\n",
       "      <td>Purwakarta</td>\n",
       "    </tr>\n",
       "    <tr>\n",
       "      <th>7</th>\n",
       "      <td>Cibinong</td>\n",
       "      <td>Majalengka</td>\n",
       "    </tr>\n",
       "    <tr>\n",
       "      <th>8</th>\n",
       "      <td>Cimahi</td>\n",
       "      <td>Kuningan</td>\n",
       "    </tr>\n",
       "    <tr>\n",
       "      <th>9</th>\n",
       "      <td>Cirebon</td>\n",
       "      <td>Karawang</td>\n",
       "    </tr>\n",
       "    <tr>\n",
       "      <th>10</th>\n",
       "      <td>Depok</td>\n",
       "      <td>Indramayu</td>\n",
       "    </tr>\n",
       "    <tr>\n",
       "      <th>11</th>\n",
       "      <td>Garut</td>\n",
       "      <td>Garut</td>\n",
       "    </tr>\n",
       "    <tr>\n",
       "      <th>12</th>\n",
       "      <td>Indramayu</td>\n",
       "      <td>Depok</td>\n",
       "    </tr>\n",
       "    <tr>\n",
       "      <th>13</th>\n",
       "      <td>Karawang</td>\n",
       "      <td>Cirebon</td>\n",
       "    </tr>\n",
       "    <tr>\n",
       "      <th>14</th>\n",
       "      <td>Kuningan</td>\n",
       "      <td>Cimahi</td>\n",
       "    </tr>\n",
       "    <tr>\n",
       "      <th>15</th>\n",
       "      <td>Majalengka</td>\n",
       "      <td>Cibinong</td>\n",
       "    </tr>\n",
       "    <tr>\n",
       "      <th>16</th>\n",
       "      <td>Purwakarta</td>\n",
       "      <td>Cianjur</td>\n",
       "    </tr>\n",
       "    <tr>\n",
       "      <th>17</th>\n",
       "      <td>Subang</td>\n",
       "      <td>Ciamis</td>\n",
       "    </tr>\n",
       "    <tr>\n",
       "      <th>18</th>\n",
       "      <td>Sumber</td>\n",
       "      <td>Bogor</td>\n",
       "    </tr>\n",
       "    <tr>\n",
       "      <th>19</th>\n",
       "      <td>Sumedang</td>\n",
       "      <td>Bekasi</td>\n",
       "    </tr>\n",
       "    <tr>\n",
       "      <th>20</th>\n",
       "      <td>Tasikmalaya</td>\n",
       "      <td>Bandung</td>\n",
       "    </tr>\n",
       "    <tr>\n",
       "      <th>21</th>\n",
       "      <td>Indramayu</td>\n",
       "      <td>Tasikmalaya</td>\n",
       "    </tr>\n",
       "    <tr>\n",
       "      <th>22</th>\n",
       "      <td>Karawang</td>\n",
       "      <td>Depok</td>\n",
       "    </tr>\n",
       "    <tr>\n",
       "      <th>23</th>\n",
       "      <td>Kuningan</td>\n",
       "      <td>Ciamis</td>\n",
       "    </tr>\n",
       "    <tr>\n",
       "      <th>24</th>\n",
       "      <td>Purwakarta</td>\n",
       "      <td>Majalengka</td>\n",
       "    </tr>\n",
       "    <tr>\n",
       "      <th>25</th>\n",
       "      <td>Majalengka</td>\n",
       "      <td>Garut</td>\n",
       "    </tr>\n",
       "    <tr>\n",
       "      <th>26</th>\n",
       "      <td>Cibinong</td>\n",
       "      <td>Sukabumi</td>\n",
       "    </tr>\n",
       "  </tbody>\n",
       "</table>\n",
       "</div>"
      ],
      "text/plain": [
       "              0            1\n",
       "0       Bandung  Tasikmalaya\n",
       "1       Bandung     Sumedang\n",
       "2       Bandung       Sumber\n",
       "3        Bekasi     Sukabumi\n",
       "4         Bogor       Subang\n",
       "5       Cianjur      Soreang\n",
       "6       Cianjur   Purwakarta\n",
       "7      Cibinong   Majalengka\n",
       "8        Cimahi     Kuningan\n",
       "9       Cirebon     Karawang\n",
       "10        Depok    Indramayu\n",
       "11        Garut        Garut\n",
       "12    Indramayu        Depok\n",
       "13     Karawang      Cirebon\n",
       "14     Kuningan       Cimahi\n",
       "15   Majalengka     Cibinong\n",
       "16   Purwakarta      Cianjur\n",
       "17       Subang       Ciamis\n",
       "18       Sumber        Bogor\n",
       "19     Sumedang       Bekasi\n",
       "20  Tasikmalaya      Bandung\n",
       "21    Indramayu  Tasikmalaya\n",
       "22     Karawang        Depok\n",
       "23     Kuningan       Ciamis\n",
       "24   Purwakarta   Majalengka\n",
       "25   Majalengka        Garut\n",
       "26     Cibinong     Sukabumi"
      ]
     },
     "execution_count": 61,
     "metadata": {},
     "output_type": "execute_result"
    }
   ],
   "source": [
    "file = \"transportasi.csv\"\n",
    "data = pd.read_csv(file, header=None)\n",
    "data"
   ]
  },
  {
   "cell_type": "code",
   "execution_count": null,
   "metadata": {},
   "outputs": [],
   "source": [
    "arrData = data.to_numpy().ravel()\n",
    "arrData"
   ]
  },
  {
   "cell_type": "code",
   "execution_count": 63,
   "metadata": {},
   "outputs": [
    {
     "data": {
      "image/png": "[encoded data removed]",
      "text/plain": [
       "<Figure size 432x288 with 1 Axes>"
      ]
     },
     "metadata": {},
     "output_type": "display_data"
    }
   ],
   "source": [
    "G1 = nx.Graph()\n",
    "\n",
    "G1.add_nodes_from(arrData)\n",
    "\n",
    "nx.draw(G1, with_labels = True)\n",
    "plt.show()"
   ]
  },
  {
   "cell_type": "code",
   "execution_count": null,
   "metadata": {},
   "outputs": [],
   "source": [
    "temp = data.apply(tuple, axis=1).to_list()\n",
    "temp"
   ]
  },
  {
   "cell_type": "code",
   "execution_count": 64,
   "metadata": {},
   "outputs": [
    {
     "data": {
      "image/png": "[encoded data removed]",
      "text/plain": [
       "<Figure size 432x288 with 1 Axes>"
      ]
     },
     "metadata": {},
     "output_type": "display_data"
    }
   ],
   "source": [
    "G2 = nx.Graph()\n",
    "\n",
    "G2.add_edges_from(temp)\n",
    "\n",
    "nx.draw(G2, with_labels = True)\n",
    "plt.show()"
   ]
  },
  {
   "cell_type": "code",
   "execution_count": 65,
   "metadata": {},
   "outputs": [
    {
     "data": {
      "text/plain": [
       "[('Bandung', 'Tasikmalaya'),\n",
       " ('Bandung', 'Sumedang'),\n",
       " ('Bandung', 'Sumber'),\n",
       " ('Tasikmalaya', 'Indramayu'),\n",
       " ('Sumedang', 'Bekasi'),\n",
       " ('Sumber', 'Bogor'),\n",
       " ('Bekasi', 'Sukabumi'),\n",
       " ('Sukabumi', 'Cibinong'),\n",
       " ('Bogor', 'Subang'),\n",
       " ('Subang', 'Ciamis'),\n",
       " ('Cianjur', 'Soreang'),\n",
       " ('Cianjur', 'Purwakarta'),\n",
       " ('Purwakarta', 'Majalengka'),\n",
       " ('Cibinong', 'Majalengka'),\n",
       " ('Majalengka', 'Garut'),\n",
       " ('Cimahi', 'Kuningan'),\n",
       " ('Kuningan', 'Ciamis'),\n",
       " ('Cirebon', 'Karawang'),\n",
       " ('Karawang', 'Depok'),\n",
       " ('Depok', 'Indramayu'),\n",
       " ('Garut', 'Garut')]"
      ]
     },
     "execution_count": 65,
     "metadata": {},
     "output_type": "execute_result"
    }
   ],
   "source": [
    "list(G2.edges())"
   ]
  },
  {
   "cell_type": "code",
   "execution_count": 66,
   "metadata": {},
   "outputs": [
    {
     "data": {
      "text/plain": [
       "{'Bandung': 0.15000000000000002,\n",
       " 'Tasikmalaya': 0.1,\n",
       " 'Sumedang': 0.1,\n",
       " 'Sumber': 0.1,\n",
       " 'Bekasi': 0.1,\n",
       " 'Sukabumi': 0.1,\n",
       " 'Bogor': 0.1,\n",
       " 'Subang': 0.1,\n",
       " 'Cianjur': 0.1,\n",
       " 'Soreang': 0.05,\n",
       " 'Purwakarta': 0.1,\n",
       " 'Cibinong': 0.1,\n",
       " 'Majalengka': 0.15000000000000002,\n",
       " 'Cimahi': 0.05,\n",
       " 'Kuningan': 0.1,\n",
       " 'Cirebon': 0.05,\n",
       " 'Karawang': 0.1,\n",
       " 'Depok': 0.1,\n",
       " 'Indramayu': 0.1,\n",
       " 'Garut': 0.15000000000000002,\n",
       " 'Ciamis': 0.1}"
      ]
     },
     "execution_count": 66,
     "metadata": {},
     "output_type": "execute_result"
    }
   ],
   "source": [
    "nx.degree_centrality(G2)"
   ]
  },
  {
   "cell_type": "code",
   "execution_count": 67,
   "metadata": {},
   "outputs": [
    {
     "data": {
      "text/plain": [
       "{'Bandung': 0.6789473684210526,\n",
       " 'Tasikmalaya': 0.3368421052631579,\n",
       " 'Sumedang': 0.5052631578947369,\n",
       " 'Sumber': 0.39473684210526316,\n",
       " 'Bekasi': 0.4789473684210526,\n",
       " 'Sukabumi': 0.4421052631578947,\n",
       " 'Bogor': 0.3368421052631579,\n",
       " 'Subang': 0.26842105263157895,\n",
       " 'Cianjur': 0.09999999999999999,\n",
       " 'Soreang': 0.0,\n",
       " 'Purwakarta': 0.18947368421052632,\n",
       " 'Cibinong': 0.39473684210526316,\n",
       " 'Majalengka': 0.3526315789473684,\n",
       " 'Cimahi': 0.0,\n",
       " 'Kuningan': 0.09999999999999999,\n",
       " 'Cirebon': 0.0,\n",
       " 'Karawang': 0.09999999999999999,\n",
       " 'Depok': 0.18947368421052632,\n",
       " 'Indramayu': 0.26842105263157895,\n",
       " 'Garut': 0.0,\n",
       " 'Ciamis': 0.18947368421052632}"
      ]
     },
     "execution_count": 67,
     "metadata": {},
     "output_type": "execute_result"
    }
   ],
   "source": [
    "nx.betweenness_centrality(G2)"
   ]
  }
 ],
 "metadata": {
  "interpreter": {
   "hash": "dac27e71a2d689c8f72daa680ee9b297f69116c1bb2316e34e57a2ffc7b371e6"
  },
  "kernelspec": {
   "display_name": "Python 3.8.12 64-bit ('time_series': conda)",
   "language": "python",
   "name": "python3"
  },
  "language_info": {
   "codemirror_mode": {
    "name": "ipython",
    "version": 3
   },
   "file_extension": ".py",
   "mimetype": "text/x-python",
   "name": "python",
   "nbconvert_exporter": "python",
   "pygments_lexer": "ipython3",
   "version": "3.8.12"
  },
  "orig_nbformat": 4
 },
 "nbformat": 4,
 "nbformat_minor": 2
}
